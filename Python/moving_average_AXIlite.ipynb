{
 "cells": [
  {
   "cell_type": "code",
   "execution_count": 2,
   "id": "496a5351",
   "metadata": {},
   "outputs": [
    {
     "data": {
      "application/javascript": [
       "\n",
       "try {\n",
       "require(['notebook/js/codecell'], function(codecell) {\n",
       "  codecell.CodeCell.options_default.highlight_modes[\n",
       "      'magic_text/x-csrc'] = {'reg':[/^%%microblaze/]};\n",
       "  Jupyter.notebook.events.one('kernel_ready.Kernel', function(){\n",
       "      Jupyter.notebook.get_cells().map(function(cell){\n",
       "          if (cell.cell_type == 'code'){ cell.auto_highlight(); } }) ;\n",
       "  });\n",
       "});\n",
       "} catch (e) {};\n"
      ]
     },
     "metadata": {},
     "output_type": "display_data"
    },
    {
     "data": {
      "application/javascript": [
       "\n",
       "try {\n",
       "require(['notebook/js/codecell'], function(codecell) {\n",
       "  codecell.CodeCell.options_default.highlight_modes[\n",
       "      'magic_text/x-csrc'] = {'reg':[/^%%pybind11/]};\n",
       "  Jupyter.notebook.events.one('kernel_ready.Kernel', function(){\n",
       "      Jupyter.notebook.get_cells().map(function(cell){\n",
       "          if (cell.cell_type == 'code'){ cell.auto_highlight(); } }) ;\n",
       "  });\n",
       "});\n",
       "} catch (e) {};\n"
      ]
     },
     "metadata": {},
     "output_type": "display_data"
    }
   ],
   "source": [
    "from pynq import Overlay\n",
    "\n",
    "from pynq import allocate\n",
    "import numpy as np"
   ]
  },
  {
   "cell_type": "code",
   "execution_count": 3,
   "id": "f326d03b",
   "metadata": {},
   "outputs": [],
   "source": [
    "overlay = Overlay(\"design_1_wrapper.bit\")"
   ]
  },
  {
   "cell_type": "code",
   "execution_count": 4,
   "id": "41adbb13",
   "metadata": {},
   "outputs": [],
   "source": [
    "overlay?"
   ]
  },
  {
   "cell_type": "code",
   "execution_count": 4,
   "id": "6777ae3c",
   "metadata": {},
   "outputs": [],
   "source": [
    "dma = overlay.axi_dma_0\n",
    "mov_avg = overlay.moving_average_2_0"
   ]
  },
  {
   "cell_type": "code",
   "execution_count": 5,
   "id": "e73259e8",
   "metadata": {
    "scrolled": true
   },
   "outputs": [
    {
     "data": {
      "text/plain": [
       "RegisterMap {\n",
       "  win = Register(win=write-only),\n",
       "  dim = Register(dim=write-only)\n",
       "}"
      ]
     },
     "execution_count": 5,
     "metadata": {},
     "output_type": "execute_result"
    }
   ],
   "source": [
    "mov_avg.register_map"
   ]
  },
  {
   "cell_type": "code",
   "execution_count": 6,
   "id": "ba711210",
   "metadata": {},
   "outputs": [],
   "source": [
    "dim = 1000\n",
    "window = 15"
   ]
  },
  {
   "cell_type": "code",
   "execution_count": 22,
   "id": "d931be70",
   "metadata": {},
   "outputs": [],
   "source": [
    "mov_avg.register_map.win = window\n",
    "mov_avg.register_map.dim = dim"
   ]
  },
  {
   "cell_type": "code",
   "execution_count": 23,
   "id": "02117ec2",
   "metadata": {},
   "outputs": [],
   "source": [
    "data_in = np.random.randint(-1000, 1000, dim, np.int32)\n",
    "#data_in = np.empty(dim, np.int32)\n",
    "#for i in range(dim):\n",
    "#    data_in[i]=i"
   ]
  },
  {
   "cell_type": "code",
   "execution_count": 24,
   "id": "49e878b8",
   "metadata": {},
   "outputs": [
    {
     "name": "stdout",
     "output_type": "stream",
     "text": [
      "Input data sample: [ -89  385  486 -663  481  108 -327  740  -18 -501]\n"
     ]
    }
   ],
   "source": [
    "print(\"Input data sample:\",data_in[0:10])"
   ]
  },
  {
   "cell_type": "code",
   "execution_count": 25,
   "id": "406d1d5a",
   "metadata": {},
   "outputs": [],
   "source": [
    "# moving average software function\n",
    "def moving_average(data, window):\n",
    "    data_out_size = data.shape[0] - window + 1\n",
    "    data_out = np.empty(data_out_size, np.float32)\n",
    "    for i in range(data_out_size):\n",
    "        data_out[i] = np.sum(data[i:i + window])/window\n",
    "    return data_out "
   ]
  },
  {
   "cell_type": "code",
   "execution_count": 26,
   "id": "b3a37330",
   "metadata": {},
   "outputs": [],
   "source": [
    "data_out = moving_average(data_in, window)"
   ]
  },
  {
   "cell_type": "code",
   "execution_count": 27,
   "id": "1bb26492",
   "metadata": {},
   "outputs": [
    {
     "name": "stdout",
     "output_type": "stream",
     "text": [
      "Software computed output sample:  [120.2      110.933334 138.2       52.866665 149.06667  169.46666\n",
      " 173.73334  166.2       89.26667   89.8     ]\n"
     ]
    }
   ],
   "source": [
    "print(\"Software computed output sample: \",data_out[0:10])"
   ]
  },
  {
   "cell_type": "code",
   "execution_count": 28,
   "id": "73f7e73f",
   "metadata": {},
   "outputs": [],
   "source": [
    "# create hardware buffers\n",
    "buf_in = allocate(dim, np.int32)\n",
    "buf_out = allocate(dim - window + 1, np.float32)"
   ]
  },
  {
   "cell_type": "code",
   "execution_count": 29,
   "id": "a191c01b",
   "metadata": {},
   "outputs": [],
   "source": [
    "buf_in[:] = data_in[:]"
   ]
  },
  {
   "cell_type": "code",
   "execution_count": 30,
   "id": "845da22c",
   "metadata": {},
   "outputs": [],
   "source": [
    "buf_in.flush()"
   ]
  },
  {
   "cell_type": "code",
   "execution_count": 31,
   "id": "dd85c8c0",
   "metadata": {},
   "outputs": [],
   "source": [
    "# send and receive data\n",
    "dma.recvchannel.transfer(buf_out)\n",
    "dma.sendchannel.transfer(buf_in)\n",
    "# wait for data\n",
    "dma.sendchannel.wait()\n",
    "dma.recvchannel.wait()"
   ]
  },
  {
   "cell_type": "code",
   "execution_count": 32,
   "id": "30063d79",
   "metadata": {
    "scrolled": true
   },
   "outputs": [
    {
     "name": "stdout",
     "output_type": "stream",
     "text": [
      "Hardware computed output sample:  [120.2      110.933334 138.2       52.866665 149.06667  169.46666\n",
      " 173.73334  166.2       89.26667   89.8     ]\n"
     ]
    }
   ],
   "source": [
    "print(\"Hardware computed output sample: \",buf_out[0:10])"
   ]
  },
  {
   "cell_type": "code",
   "execution_count": 33,
   "id": "cf601af8",
   "metadata": {},
   "outputs": [],
   "source": [
    "buf_out.invalidate()"
   ]
  },
  {
   "cell_type": "code",
   "execution_count": null,
   "id": "c6b363e3",
   "metadata": {},
   "outputs": [],
   "source": []
  }
 ],
 "metadata": {
  "kernelspec": {
   "display_name": "Python 3",
   "language": "python",
   "name": "python3"
  },
  "language_info": {
   "codemirror_mode": {
    "name": "ipython",
    "version": 3
   },
   "file_extension": ".py",
   "mimetype": "text/x-python",
   "name": "python",
   "nbconvert_exporter": "python",
   "pygments_lexer": "ipython3",
   "version": "3.8.2"
  }
 },
 "nbformat": 4,
 "nbformat_minor": 5
}
