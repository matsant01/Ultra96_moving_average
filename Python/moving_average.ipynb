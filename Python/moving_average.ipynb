{
 "cells": [
  {
   "cell_type": "code",
   "execution_count": 1,
   "id": "3866757d",
   "metadata": {},
   "outputs": [
    {
     "data": {
      "application/javascript": [
       "\n",
       "try {\n",
       "require(['notebook/js/codecell'], function(codecell) {\n",
       "  codecell.CodeCell.options_default.highlight_modes[\n",
       "      'magic_text/x-csrc'] = {'reg':[/^%%microblaze/]};\n",
       "  Jupyter.notebook.events.one('kernel_ready.Kernel', function(){\n",
       "      Jupyter.notebook.get_cells().map(function(cell){\n",
       "          if (cell.cell_type == 'code'){ cell.auto_highlight(); } }) ;\n",
       "  });\n",
       "});\n",
       "} catch (e) {};\n"
      ]
     },
     "metadata": {},
     "output_type": "display_data"
    },
    {
     "data": {
      "application/javascript": [
       "\n",
       "try {\n",
       "require(['notebook/js/codecell'], function(codecell) {\n",
       "  codecell.CodeCell.options_default.highlight_modes[\n",
       "      'magic_text/x-csrc'] = {'reg':[/^%%pybind11/]};\n",
       "  Jupyter.notebook.events.one('kernel_ready.Kernel', function(){\n",
       "      Jupyter.notebook.get_cells().map(function(cell){\n",
       "          if (cell.cell_type == 'code'){ cell.auto_highlight(); } }) ;\n",
       "  });\n",
       "});\n",
       "} catch (e) {};\n"
      ]
     },
     "metadata": {},
     "output_type": "display_data"
    }
   ],
   "source": [
    "from pynq import Overlay\n",
    "from pynq import allocate\n",
    "import numpy as np"
   ]
  },
  {
   "cell_type": "code",
   "execution_count": 2,
   "id": "ef9d269e",
   "metadata": {},
   "outputs": [],
   "source": [
    "overlay = Overlay(\"design_1_wrapper.bit\")"
   ]
  },
  {
   "cell_type": "code",
   "execution_count": 19,
   "id": "20289442",
   "metadata": {},
   "outputs": [],
   "source": [
    "overlay?"
   ]
  },
  {
   "cell_type": "code",
   "execution_count": null,
   "id": "5ceb7ea7",
   "metadata": {},
   "outputs": [],
   "source": [
    "overlay."
   ]
  },
  {
   "cell_type": "code",
   "execution_count": 4,
   "id": "0923ff16",
   "metadata": {},
   "outputs": [],
   "source": [
    "# access to the hierarchy and dma\n",
    "#hier = overlay.moving_average_hier\n",
    "dma = overlay.axi_dma_0"
   ]
  },
  {
   "cell_type": "code",
   "execution_count": 5,
   "id": "682d1a49",
   "metadata": {},
   "outputs": [],
   "source": [
    "dim = 1000\n",
    "window = 3"
   ]
  },
  {
   "cell_type": "code",
   "execution_count": 6,
   "id": "659f7322",
   "metadata": {},
   "outputs": [],
   "source": [
    "data_in = np.random.randint(-1000, 1000, dim, np.int32)\n",
    "#data_in = np.empty(dim, np.int32)\n",
    "#for i in range(dim):\n",
    "    #data_in[i]=i"
   ]
  },
  {
   "cell_type": "code",
   "execution_count": 7,
   "id": "c29514a1",
   "metadata": {},
   "outputs": [
    {
     "data": {
      "text/plain": [
       "array([   8, -416, -862,  258, -291,  -50,  861,  -26,  848,  605],\n",
       "      dtype=int32)"
      ]
     },
     "execution_count": 7,
     "metadata": {},
     "output_type": "execute_result"
    }
   ],
   "source": [
    "data_in[0:10]"
   ]
  },
  {
   "cell_type": "code",
   "execution_count": 8,
   "id": "361562f4",
   "metadata": {},
   "outputs": [],
   "source": [
    "# moving average software function\n",
    "def moving_average(data, window):\n",
    "    data_out_size = data.shape[0] - window + 1\n",
    "    data_out = np.empty(data_out_size, np.float32)\n",
    "    for i in range(data_out_size):\n",
    "        data_out[i] = np.sum(data[i:i + window])/window\n",
    "    return data_out "
   ]
  },
  {
   "cell_type": "code",
   "execution_count": 9,
   "id": "803392b1",
   "metadata": {},
   "outputs": [],
   "source": [
    "data_out = moving_average(data_in, window)"
   ]
  },
  {
   "cell_type": "code",
   "execution_count": 10,
   "id": "661d7f05",
   "metadata": {},
   "outputs": [],
   "source": [
    "# create hardware buffers\n",
    "buf_in = allocate(dim + 2, np.int32)\n",
    "buf_out = allocate(dim - window + 1, np.float32)"
   ]
  },
  {
   "cell_type": "code",
   "execution_count": 11,
   "id": "29f66ef2",
   "metadata": {},
   "outputs": [],
   "source": [
    "# fill input buffer\n",
    "buf_in[0] = dim\n",
    "buf_in[1] = window\n",
    "buf_in[2:] = data_in[:]"
   ]
  },
  {
   "cell_type": "raw",
   "id": "9486357e",
   "metadata": {},
   "source": [
    "buf_in.flush()\n"
   ]
  },
  {
   "cell_type": "code",
   "execution_count": 12,
   "id": "232cb0d8",
   "metadata": {},
   "outputs": [
    {
     "name": "stdout",
     "output_type": "stream",
     "text": [
      "[   8 -416 -862  258 -291  -50  861  -26  848  605]\n",
      "[1000    3    8 -416 -862  258 -291  -50  861  -26]\n"
     ]
    }
   ],
   "source": [
    "print(data_in[0:10])\n",
    "print(buf_in[0:10])"
   ]
  },
  {
   "cell_type": "code",
   "execution_count": 13,
   "id": "2a3b9fab",
   "metadata": {},
   "outputs": [],
   "source": [
    "# send and receive data\n",
    "dma.recvchannel.transfer(buf_out)\n",
    "dma.sendchannel.transfer(buf_in)\n",
    "# wait for data\n",
    "dma.sendchannel.wait()\n",
    "dma.recvchannel.wait()"
   ]
  },
  {
   "cell_type": "code",
   "execution_count": 14,
   "id": "58b40047",
   "metadata": {},
   "outputs": [
    {
     "data": {
      "text/plain": [
       "PynqBuffer([-423.33334 , -340.      , -298.33334 ,  -27.666666,\n",
       "             173.33333 ,  261.66666 ,  561.      ,  475.66666 ,\n",
       "             686.      ,  678.      ], dtype=float32)"
      ]
     },
     "execution_count": 14,
     "metadata": {},
     "output_type": "execute_result"
    }
   ],
   "source": [
    "buf_out[0:10]"
   ]
  },
  {
   "cell_type": "code",
   "execution_count": 15,
   "id": "ca8d51e3",
   "metadata": {},
   "outputs": [
    {
     "data": {
      "text/plain": [
       "array([-423.33334 , -340.      , -298.33334 ,  -27.666666,  173.33333 ,\n",
       "        261.66666 ,  561.      ,  475.66666 ,  686.      ,  678.      ,\n",
       "        185.33333 , -337.66666 , -697.3333  , -454.66666 , -160.      ,\n",
       "        223.33333 ,  269.33334 ,  305.      ,  316.66666 ,  139.      ],\n",
       "      dtype=float32)"
      ]
     },
     "execution_count": 15,
     "metadata": {},
     "output_type": "execute_result"
    }
   ],
   "source": [
    "data_out[0:20]"
   ]
  },
  {
   "cell_type": "code",
   "execution_count": 16,
   "id": "6b9e485a",
   "metadata": {},
   "outputs": [
    {
     "name": "stdout",
     "output_type": "stream",
     "text": [
      "True\n"
     ]
    }
   ],
   "source": [
    "# check results\n",
    "print(np.all(buf_out == data_out))"
   ]
  },
  {
   "cell_type": "code",
   "execution_count": 17,
   "id": "90e9cf40",
   "metadata": {},
   "outputs": [],
   "source": [
    "buf_out.invalidate()"
   ]
  },
  {
   "cell_type": "code",
   "execution_count": 18,
   "id": "99338926",
   "metadata": {},
   "outputs": [
    {
     "name": "stdout",
     "output_type": "stream",
     "text": [
      "1\n",
      "True\n",
      "2\n",
      "True\n",
      "3\n",
      "True\n",
      "4\n",
      "True\n",
      "5\n",
      "True\n",
      "6\n",
      "True\n",
      "7\n",
      "True\n",
      "8\n",
      "True\n",
      "9\n",
      "True\n",
      "10\n",
      "True\n",
      "11\n",
      "True\n",
      "12\n",
      "True\n",
      "13\n",
      "True\n",
      "14\n",
      "True\n",
      "15\n",
      "True\n",
      "16\n",
      "True\n"
     ]
    }
   ],
   "source": [
    "# run experiments on window values from 1 to 16\n",
    "max_window = 16\n",
    "for i in range(1, max_window + 1):\n",
    "    print(i)\n",
    "    data_out = moving_average(data_in, i)\n",
    "    buf_in = allocate(dim + 2, np.int32)\n",
    "    buf_out = allocate(dim - i + 1, np.float32)\n",
    "    buf_in[0] = dim\n",
    "    buf_in[1] = i\n",
    "    buf_in[2:] = data_in[:]\n",
    "    buf_in.flush()\n",
    "    \n",
    "    dma.recvchannel.transfer(buf_out)\n",
    "    dma.sendchannel.transfer(buf_in)\n",
    "\n",
    "    dma.sendchannel.wait()\n",
    "    dma.recvchannel.wait()\n",
    "    \n",
    "    buf_out.invalidate()\n",
    "    \n",
    "    print(np.all(buf_out == data_out))"
   ]
  },
  {
   "cell_type": "code",
   "execution_count": null,
   "id": "791ce8dd",
   "metadata": {},
   "outputs": [],
   "source": []
  },
  {
   "cell_type": "code",
   "execution_count": null,
   "id": "7166ffe5",
   "metadata": {},
   "outputs": [],
   "source": []
  },
  {
   "cell_type": "code",
   "execution_count": null,
   "id": "021ce958",
   "metadata": {},
   "outputs": [],
   "source": []
  }
 ],
 "metadata": {
  "kernelspec": {
   "display_name": "Python 3",
   "language": "python",
   "name": "python3"
  },
  "language_info": {
   "codemirror_mode": {
    "name": "ipython",
    "version": 3
   },
   "file_extension": ".py",
   "mimetype": "text/x-python",
   "name": "python",
   "nbconvert_exporter": "python",
   "pygments_lexer": "ipython3",
   "version": "3.8.2"
  }
 },
 "nbformat": 4,
 "nbformat_minor": 5
}
